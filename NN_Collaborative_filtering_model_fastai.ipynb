{
  "nbformat": 4,
  "nbformat_minor": 0,
  "metadata": {
    "colab": {
      "name": "NN_Collaborative_filtering_model_fastai.ipynb",
      "version": "0.3.2",
      "provenance": [],
      "include_colab_link": true
    },
    "kernelspec": {
      "name": "python3",
      "display_name": "Python 3"
    },
    "accelerator": "GPU"
  },
  "cells": [
    {
      "cell_type": "markdown",
      "metadata": {
        "id": "view-in-github",
        "colab_type": "text"
      },
      "source": [
        "<a href=\"https://colab.research.google.com/github/girishdatsts/FastAi_Colabs/blob/girishdatsts_Intro2Fast_ai_rf1/NN_Collaborative_filtering_model_fastai.ipynb\" target=\"_parent\"><img src=\"https://colab.research.google.com/assets/colab-badge.svg\" alt=\"Open In Colab\"/></a>"
      ]
    },
    {
      "metadata": {
        "id": "Lf3IMmEO08dI",
        "colab_type": "code",
        "colab": {}
      },
      "cell_type": "code",
      "source": [
        "import pandas as pd\n",
        "from fastai.collab import CollabDataBunch, collab_learner\n",
        "from fastai import *"
      ],
      "execution_count": 0,
      "outputs": []
    },
    {
      "metadata": {
        "id": "q5kjP8lU1d0U",
        "colab_type": "code",
        "colab": {
          "base_uri": "https://localhost:8080/",
          "height": 102
        },
        "outputId": "0c452abe-29f3-4a4c-8413-f5c10de68720"
      },
      "cell_type": "code",
      "source": [
        "!ls cd sample_data\\"
      ],
      "execution_count": 6,
      "outputs": [
        {
          "output_type": "stream",
          "text": [
            "ls: cannot access 'cd': No such file or directory\n",
            "sample_data:\n",
            "anscombe.json\t\t      mnist_test.csv\t     u.data\n",
            "california_housing_test.csv   mnist_train_small.csv\n",
            "california_housing_train.csv  README.md\n"
          ],
          "name": "stdout"
        }
      ]
    },
    {
      "metadata": {
        "id": "bjgdEAOW2S-j",
        "colab_type": "code",
        "colab": {}
      },
      "cell_type": "code",
      "source": [
        "cols = ['User ID','Movie ID','Rating','Timestamp']"
      ],
      "execution_count": 0,
      "outputs": []
    },
    {
      "metadata": {
        "id": "NPrG0EX-2T18",
        "colab_type": "code",
        "colab": {}
      },
      "cell_type": "code",
      "source": [
        "ratings_df = pd.read_csv('sample_data/u.data', delimiter='\\t', header=None, names=cols)"
      ],
      "execution_count": 0,
      "outputs": []
    },
    {
      "metadata": {
        "id": "PXugMI-P2fjj",
        "colab_type": "code",
        "colab": {
          "base_uri": "https://localhost:8080/",
          "height": 204
        },
        "outputId": "525ac4d4-e6d4-4200-c290-1a05d3dc3b27"
      },
      "cell_type": "code",
      "source": [
        "ratings_df.sample(5)"
      ],
      "execution_count": 9,
      "outputs": [
        {
          "output_type": "execute_result",
          "data": {
            "text/html": [
              "<div>\n",
              "<style scoped>\n",
              "    .dataframe tbody tr th:only-of-type {\n",
              "        vertical-align: middle;\n",
              "    }\n",
              "\n",
              "    .dataframe tbody tr th {\n",
              "        vertical-align: top;\n",
              "    }\n",
              "\n",
              "    .dataframe thead th {\n",
              "        text-align: right;\n",
              "    }\n",
              "</style>\n",
              "<table border=\"1\" class=\"dataframe\">\n",
              "  <thead>\n",
              "    <tr style=\"text-align: right;\">\n",
              "      <th></th>\n",
              "      <th>User ID</th>\n",
              "      <th>Movie ID</th>\n",
              "      <th>Rating</th>\n",
              "      <th>Timestamp</th>\n",
              "    </tr>\n",
              "  </thead>\n",
              "  <tbody>\n",
              "    <tr>\n",
              "      <th>78692</th>\n",
              "      <td>804</td>\n",
              "      <td>576</td>\n",
              "      <td>4</td>\n",
              "      <td>879445355</td>\n",
              "    </tr>\n",
              "    <tr>\n",
              "      <th>89438</th>\n",
              "      <td>862</td>\n",
              "      <td>61</td>\n",
              "      <td>5</td>\n",
              "      <td>879304244</td>\n",
              "    </tr>\n",
              "    <tr>\n",
              "      <th>54052</th>\n",
              "      <td>709</td>\n",
              "      <td>27</td>\n",
              "      <td>3</td>\n",
              "      <td>879848590</td>\n",
              "    </tr>\n",
              "    <tr>\n",
              "      <th>47988</th>\n",
              "      <td>524</td>\n",
              "      <td>405</td>\n",
              "      <td>2</td>\n",
              "      <td>884627065</td>\n",
              "    </tr>\n",
              "    <tr>\n",
              "      <th>13566</th>\n",
              "      <td>386</td>\n",
              "      <td>50</td>\n",
              "      <td>4</td>\n",
              "      <td>877654961</td>\n",
              "    </tr>\n",
              "  </tbody>\n",
              "</table>\n",
              "</div>"
            ],
            "text/plain": [
              "       User ID  Movie ID  Rating  Timestamp\n",
              "78692      804       576       4  879445355\n",
              "89438      862        61       5  879304244\n",
              "54052      709        27       3  879848590\n",
              "47988      524       405       2  884627065\n",
              "13566      386        50       4  877654961"
            ]
          },
          "metadata": {
            "tags": []
          },
          "execution_count": 9
        }
      ]
    },
    {
      "metadata": {
        "id": "0QrdGYav1Fe0",
        "colab_type": "code",
        "colab": {}
      },
      "cell_type": "code",
      "source": [
        "data = CollabDataBunch.from_df(ratings_df, valid_pct=0.2)"
      ],
      "execution_count": 0,
      "outputs": []
    },
    {
      "metadata": {
        "id": "G9oXsXuv1FiM",
        "colab_type": "code",
        "colab": {
          "base_uri": "https://localhost:8080/",
          "height": 204
        },
        "outputId": "3dfc13ef-3633-4b08-f993-3fd7ca33aee8"
      },
      "cell_type": "code",
      "source": [
        "data.show_batch()"
      ],
      "execution_count": 11,
      "outputs": [
        {
          "output_type": "display_data",
          "data": {
            "text/html": [
              "<table border=\"1\" class=\"dataframe\">\n",
              "  <thead>\n",
              "    <tr style=\"text-align: right;\">\n",
              "      <th>User ID</th>\n",
              "      <th>Movie ID</th>\n",
              "      <th>target</th>\n",
              "    </tr>\n",
              "  </thead>\n",
              "  <tbody>\n",
              "    <tr>\n",
              "      <td>336</td>\n",
              "      <td>67</td>\n",
              "      <td>4.0</td>\n",
              "    </tr>\n",
              "    <tr>\n",
              "      <td>312</td>\n",
              "      <td>615</td>\n",
              "      <td>4.0</td>\n",
              "    </tr>\n",
              "    <tr>\n",
              "      <td>566</td>\n",
              "      <td>483</td>\n",
              "      <td>4.0</td>\n",
              "    </tr>\n",
              "    <tr>\n",
              "      <td>867</td>\n",
              "      <td>603</td>\n",
              "      <td>5.0</td>\n",
              "    </tr>\n",
              "    <tr>\n",
              "      <td>894</td>\n",
              "      <td>30</td>\n",
              "      <td>4.0</td>\n",
              "    </tr>\n",
              "  </tbody>\n",
              "</table>"
            ],
            "text/plain": [
              "<IPython.core.display.HTML object>"
            ]
          },
          "metadata": {
            "tags": []
          }
        }
      ]
    },
    {
      "metadata": {
        "id": "tucWucsA3Ntb",
        "colab_type": "text"
      },
      "cell_type": "markdown",
      "source": [
        "- #### *We use the **collab_learner method from fastai** to create a neural collaborative filtering model*"
      ]
    },
    {
      "metadata": {
        "id": "F77sgW7Z1Flt",
        "colab_type": "code",
        "colab": {}
      },
      "cell_type": "code",
      "source": [
        "learn = collab_learner(data, n_factors=40, y_range=[0,5.5], wd=.1)"
      ],
      "execution_count": 0,
      "outputs": []
    },
    {
      "metadata": {
        "id": "T0UuYxIq3t5S",
        "colab_type": "text"
      },
      "cell_type": "markdown",
      "source": [
        "### Training the model\n",
        "> -  The learner uses the** mean squared error loss function** to evaluate the predictions of the model, \n",
        "and the **Adam optimizer to adjust the parameters** (vectors and biases) using gradient descent. \n",
        "\n",
        "> - Before we train the model, we use the **learning rate finder** to select a good learning for the optimizer."
      ]
    },
    {
      "metadata": {
        "id": "7MRFw91o1Fo0",
        "colab_type": "code",
        "colab": {
          "base_uri": "https://localhost:8080/",
          "height": 412
        },
        "outputId": "1db390ea-7190-4a51-d13d-757df1754f01"
      },
      "cell_type": "code",
      "source": [
        "%time learn.lr_find()\n",
        "learn.recorder.plot(skip_end=15)"
      ],
      "execution_count": 14,
      "outputs": [
        {
          "output_type": "display_data",
          "data": {
            "text/html": [
              ""
            ],
            "text/plain": [
              "<IPython.core.display.HTML object>"
            ]
          },
          "metadata": {
            "tags": []
          }
        },
        {
          "output_type": "stream",
          "text": [
            "LR Finder is complete, type {learner_name}.recorder.plot() to see the graph.\n",
            "CPU times: user 654 ms, sys: 183 ms, total: 837 ms\n",
            "Wall time: 1.06 s\n"
          ],
          "name": "stdout"
        },
        {
          "output_type": "display_data",
          "data": {
            "image/png": "[encoded data removed]",
            "text/plain": [
              "<Figure size 576x396 with 1 Axes>"
            ]
          },
          "metadata": {
            "tags": []
          }
        }
      ]
    },
    {
      "metadata": {
        "id": "BF4U_aRF4xjS",
        "colab_type": "text"
      },
      "cell_type": "markdown",
      "source": [
        "- Upon inspection of the **graph**, we can see that the **decrease in loss starts to decrease when the learning rate is around 0.01**. We can choose this as our learning rate, and train for 5 epochs, while annealing the learning rate using the **1-cycle policy**, which leads to faster convergence."
      ]
    },
    {
      "metadata": {
        "id": "VP_Hb_fR1Frk",
        "colab_type": "code",
        "colab": {
          "base_uri": "https://localhost:8080/",
          "height": 261
        },
        "outputId": "0ac02046-025e-45a6-d274-535574cf5014"
      },
      "cell_type": "code",
      "source": [
        "%time learn.fit_one_cycle(5, 0.01)"
      ],
      "execution_count": 15,
      "outputs": [
        {
          "output_type": "display_data",
          "data": {
            "text/html": [
              "Total time: 01:05 <p><table border=\"1\" class=\"dataframe\">\n",
              "  <thead>\n",
              "    <tr style=\"text-align: left;\">\n",
              "      <th>epoch</th>\n",
              "      <th>train_loss</th>\n",
              "      <th>valid_loss</th>\n",
              "      <th>time</th>\n",
              "    </tr>\n",
              "  </thead>\n",
              "  <tbody>\n",
              "    <tr>\n",
              "      <td>0</td>\n",
              "      <td>1.000066</td>\n",
              "      <td>0.960296</td>\n",
              "      <td>00:13</td>\n",
              "    </tr>\n",
              "    <tr>\n",
              "      <td>1</td>\n",
              "      <td>0.908684</td>\n",
              "      <td>0.901659</td>\n",
              "      <td>00:13</td>\n",
              "    </tr>\n",
              "    <tr>\n",
              "      <td>2</td>\n",
              "      <td>0.802804</td>\n",
              "      <td>0.848568</td>\n",
              "      <td>00:13</td>\n",
              "    </tr>\n",
              "    <tr>\n",
              "      <td>3</td>\n",
              "      <td>0.620773</td>\n",
              "      <td>0.821438</td>\n",
              "      <td>00:13</td>\n",
              "    </tr>\n",
              "    <tr>\n",
              "      <td>4</td>\n",
              "      <td>0.447666</td>\n",
              "      <td>0.822403</td>\n",
              "      <td>00:13</td>\n",
              "    </tr>\n",
              "  </tbody>\n",
              "</table>"
            ],
            "text/plain": [
              "<IPython.core.display.HTML object>"
            ]
          },
          "metadata": {
            "tags": []
          }
        },
        {
          "output_type": "stream",
          "text": [
            "CPU times: user 41.4 s, sys: 8.48 s, total: 49.9 s\n",
            "Wall time: 1min 5s\n"
          ],
          "name": "stdout"
        }
      ]
    },
    {
      "metadata": {
        "id": "bD2NaKGK5Qpo",
        "colab_type": "text"
      },
      "cell_type": "markdown",
      "source": [
        "- ### Looking at some predictions"
      ]
    },
    {
      "metadata": {
        "id": "B3VxLwvL1Fuc",
        "colab_type": "code",
        "colab": {
          "base_uri": "https://localhost:8080/",
          "height": 51
        },
        "outputId": "778b789b-4e0d-4ba7-9d75-f749a3147333"
      },
      "cell_type": "code",
      "source": [
        "(users, items), ratings = next(iter(data.valid_dl))\n",
        "%time preds = learn.model(users, items)"
      ],
      "execution_count": 16,
      "outputs": [
        {
          "output_type": "stream",
          "text": [
            "CPU times: user 1.05 ms, sys: 5 µs, total: 1.06 ms\n",
            "Wall time: 1.07 ms\n"
          ],
          "name": "stdout"
        }
      ]
    },
    {
      "metadata": {
        "id": "vZu8om1e1FxU",
        "colab_type": "code",
        "colab": {
          "base_uri": "https://localhost:8080/",
          "height": 306
        },
        "outputId": "bd3142e0-2d0e-48bd-ab73-03465a691f4c"
      },
      "cell_type": "code",
      "source": [
        "print('Real\\tPred\\tDifference')\n",
        "for p in list(zip(ratings, preds))[:16]:\n",
        "    print('{}\\t{:.1f}\\t{:.1f}'.format(p[0],p[1],p[1]-p[0]))"
      ],
      "execution_count": 17,
      "outputs": [
        {
          "output_type": "stream",
          "text": [
            "Real\tPred\tDifference\n",
            "5.0\t4.2\t-0.8\n",
            "2.0\t3.3\t1.3\n",
            "5.0\t4.4\t-0.6\n",
            "4.0\t3.7\t-0.3\n",
            "4.0\t3.6\t-0.4\n",
            "3.0\t3.5\t0.5\n",
            "4.0\t4.1\t0.1\n",
            "4.0\t3.7\t-0.3\n",
            "5.0\t4.7\t-0.3\n",
            "3.0\t3.2\t0.2\n",
            "4.0\t3.6\t-0.4\n",
            "3.0\t3.3\t0.3\n",
            "3.0\t3.2\t0.2\n",
            "2.0\t2.7\t0.7\n",
            "4.0\t4.0\t0.0\n",
            "5.0\t3.6\t-1.4\n"
          ],
          "name": "stdout"
        }
      ]
    },
    {
      "metadata": {
        "id": "nlaS5rHQ7HnA",
        "colab_type": "text"
      },
      "cell_type": "markdown",
      "source": [
        "- ### Save and commit::\n",
        "> - save and commit our work using the **jovian library.**"
      ]
    },
    {
      "metadata": {
        "id": "KYmGx5Gu7fG_",
        "colab_type": "code",
        "colab": {}
      },
      "cell_type": "code",
      "source": [
        "# pip install jovian"
      ],
      "execution_count": 0,
      "outputs": []
    },
    {
      "metadata": {
        "id": "VhPM6EIs1Fzs",
        "colab_type": "code",
        "colab": {}
      },
      "cell_type": "code",
      "source": [
        "import jovian"
      ],
      "execution_count": 0,
      "outputs": []
    },
    {
      "metadata": {
        "id": "EZ52qqhL1F10",
        "colab_type": "code",
        "colab": {
          "base_uri": "https://localhost:8080/",
          "height": 34
        },
        "outputId": "55547a7f-17ea-4f48-b229-8605b72cd769"
      },
      "cell_type": "code",
      "source": [
        "jovian.commit()"
      ],
      "execution_count": 24,
      "outputs": [
        {
          "output_type": "stream",
          "text": [
            "[jovian] Error: Failed to detect Juptyer notebook. Skipping..\n"
          ],
          "name": "stderr"
        }
      ]
    },
    {
      "metadata": {
        "id": "Ba5cJ76e8DPP",
        "colab_type": "text"
      },
      "cell_type": "markdown",
      "source": [
        "- ### following are some resources, helps to  to dive deeper into the topic:\n",
        "\n",
        "* [Lesson 4](https://course.fast.ai/videos/?lesson=4) of FastAI's \"Practical Deep Learning for Coders\" course\n",
        "\n",
        "* [Paper](https://arxiv.org/abs/1708.05031) introducing neural collaborative filtering\n",
        "\n",
        "* [PyTorch: Zero to GANs](https://medium.com/jovian-io/pytorch-basics-tensors-and-gradients-eb2f6e8a6eee)  - tutorial series covering the basics of PyTorch and neural networks"
      ]
    },
    {
      "metadata": {
        "id": "KM8mWjYL8Bin",
        "colab_type": "code",
        "colab": {}
      },
      "cell_type": "code",
      "source": [
        ""
      ],
      "execution_count": 0,
      "outputs": []
    }
  ]
}